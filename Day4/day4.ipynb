{
 "cells": [
  {
   "cell_type": "code",
   "execution_count": 11,
   "metadata": {},
   "outputs": [],
   "source": [
    "with open('data.txt', 'r') as f:\n",
    "    raw_data = f.read()"
   ]
  },
  {
   "cell_type": "code",
   "execution_count": 12,
   "metadata": {},
   "outputs": [],
   "source": [
    "pairs =[\n",
    "    pair.split(',')\n",
    "    for pair\n",
    "    in raw_data.splitlines()\n",
    "] "
   ]
  },
  {
   "cell_type": "code",
   "execution_count": 13,
   "metadata": {},
   "outputs": [
    {
     "data": {
      "text/plain": [
       "1000"
      ]
     },
     "execution_count": 13,
     "metadata": {},
     "output_type": "execute_result"
    }
   ],
   "source": [
    "len(pairs)"
   ]
  },
  {
   "cell_type": "code",
   "execution_count": 15,
   "metadata": {},
   "outputs": [],
   "source": [
    "overlaps = 0\n",
    "for pair in raw_data.splitlines():\n",
    "    \n",
    "    r1, r2 = pair.split(',')\n",
    "    r1a, r1b = r1.split('-')\n",
    "    r2a, r2b = r2.split('-')\n",
    "    \n",
    "    r1a = int(r1a)\n",
    "    r2a = int(r2a)\n",
    "    r1b = int(r1b)\n",
    "    r2b = int(r2b)\n",
    "    \n",
    "    r1s = set(range(r1a, r1b+1))\n",
    "    r2s = set(range(r2a, r2b+1))\n",
    "    \n",
    "    if r1s.issuperset(r2s) or r2s.issuperset(r1s):\n",
    "        overlaps += 1"
   ]
  },
  {
   "cell_type": "code",
   "execution_count": 16,
   "metadata": {},
   "outputs": [
    {
     "data": {
      "text/plain": [
       "556"
      ]
     },
     "execution_count": 16,
     "metadata": {},
     "output_type": "execute_result"
    }
   ],
   "source": [
    "overlaps"
   ]
  },
  {
   "cell_type": "code",
   "execution_count": 17,
   "metadata": {},
   "outputs": [],
   "source": [
    "overlaps = 0\n",
    "for pair in raw_data.splitlines():\n",
    "    \n",
    "    r1, r2 = pair.split(',')\n",
    "    r1a, r1b = r1.split('-')\n",
    "    r2a, r2b = r2.split('-')\n",
    "    \n",
    "    r1a = int(r1a)\n",
    "    r2a = int(r2a)\n",
    "    r1b = int(r1b)\n",
    "    r2b = int(r2b)\n",
    "    \n",
    "    r1s = set(range(r1a, r1b+1))\n",
    "    r2s = set(range(r2a, r2b+1))\n",
    "    \n",
    "    if r1s.intersection(r2s) or r2s.intersection(r1s):\n",
    "        overlaps += 1"
   ]
  },
  {
   "cell_type": "code",
   "execution_count": 18,
   "metadata": {},
   "outputs": [
    {
     "data": {
      "text/plain": [
       "876"
      ]
     },
     "execution_count": 18,
     "metadata": {},
     "output_type": "execute_result"
    }
   ],
   "source": [
    "overlaps"
   ]
  },
  {
   "cell_type": "code",
   "execution_count": null,
   "metadata": {},
   "outputs": [],
   "source": []
  },
  {
   "cell_type": "code",
   "execution_count": 8,
   "metadata": {},
   "outputs": [
    {
     "data": {
      "text/plain": [
       "{2, 3, 4}"
      ]
     },
     "execution_count": 8,
     "metadata": {},
     "output_type": "execute_result"
    }
   ],
   "source": [
    "set(range(2,4+1))"
   ]
  },
  {
   "cell_type": "code",
   "execution_count": null,
   "metadata": {},
   "outputs": [],
   "source": [
    "sections = [\n",
    "    range(r1.split())\n",
    "    for r1, r2\n",
    "    in pairs\n",
    "]"
   ]
  },
  {
   "cell_type": "code",
   "execution_count": null,
   "metadata": {},
   "outputs": [],
   "source": []
  },
  {
   "cell_type": "markdown",
   "metadata": {},
   "source": [
    "# Regex"
   ]
  },
  {
   "cell_type": "code",
   "execution_count": 19,
   "metadata": {},
   "outputs": [],
   "source": [
    "import re"
   ]
  },
  {
   "cell_type": "code",
   "execution_count": 20,
   "metadata": {},
   "outputs": [],
   "source": [
    "line_pattern = re.compile(r'(\\d+)-(\\d+),(\\d+)-(\\d+)')"
   ]
  },
  {
   "cell_type": "code",
   "execution_count": 21,
   "metadata": {},
   "outputs": [],
   "source": [
    "sections = []\n",
    "for line in raw_data.splitlines():\n",
    "    match = line_pattern.match(line)\n",
    "    section_ends = [int(v) for v in match.groups()]\n",
    "    \n",
    "    a,b,x,y = section_ends\n",
    "    \n",
    "    sections.append((\n",
    "        set(range(a,b+1)), set(range(x,y+1))\n",
    "    ) )\n",
    "    "
   ]
  },
  {
   "cell_type": "code",
   "execution_count": 22,
   "metadata": {},
   "outputs": [
    {
     "data": {
      "text/plain": [
       "556"
      ]
     },
     "execution_count": 22,
     "metadata": {},
     "output_type": "execute_result"
    }
   ],
   "source": [
    "len([\n",
    "    (a,b)\n",
    "    for a,b\n",
    "    in sections\n",
    "    if a.issuperset(b) or b.issuperset(a)\n",
    "])"
   ]
  },
  {
   "cell_type": "code",
   "execution_count": 23,
   "metadata": {},
   "outputs": [
    {
     "data": {
      "text/plain": [
       "876"
      ]
     },
     "execution_count": 23,
     "metadata": {},
     "output_type": "execute_result"
    }
   ],
   "source": [
    "len([\n",
    "    (a,b)\n",
    "    for a,b\n",
    "    in sections\n",
    "    if a.intersection(b)\n",
    "])"
   ]
  },
  {
   "cell_type": "markdown",
   "metadata": {},
   "source": [
    "Yeah. This was way faster using regex because I didn't need to do all the extra fiddling with types. Almost full iteration the whole way."
   ]
  },
  {
   "cell_type": "code",
   "execution_count": null,
   "metadata": {},
   "outputs": [],
   "source": []
  }
 ],
 "metadata": {
  "kernelspec": {
   "display_name": "Python 3",
   "language": "python",
   "name": "python3"
  },
  "language_info": {
   "codemirror_mode": {
    "name": "ipython",
    "version": 3
   },
   "file_extension": ".py",
   "mimetype": "text/x-python",
   "name": "python",
   "nbconvert_exporter": "python",
   "pygments_lexer": "ipython3",
   "version": "3.7.4"
  }
 },
 "nbformat": 4,
 "nbformat_minor": 4
}
