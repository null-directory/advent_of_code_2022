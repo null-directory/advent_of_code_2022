{
 "cells": [
  {
   "cell_type": "code",
   "execution_count": 198,
   "metadata": {},
   "outputs": [],
   "source": [
    "with open('topo.txt', 'r') as f:\n",
    "    topo_raw = f.read()"
   ]
  },
  {
   "cell_type": "code",
   "execution_count": 199,
   "metadata": {},
   "outputs": [],
   "source": [
    "from itertools import product"
   ]
  },
  {
   "cell_type": "code",
   "execution_count": 200,
   "metadata": {},
   "outputs": [
    {
     "data": {
      "text/plain": [
       "<itertools.product at 0x2325205e9a8>"
      ]
     },
     "execution_count": 200,
     "metadata": {},
     "output_type": "execute_result"
    }
   ],
   "source": [
    "product()"
   ]
  },
  {
   "cell_type": "code",
   "execution_count": null,
   "metadata": {},
   "outputs": [],
   "source": []
  },
  {
   "cell_type": "code",
   "execution_count": 201,
   "metadata": {},
   "outputs": [
    {
     "data": {
      "text/plain": [
       "[]"
      ]
     },
     "execution_count": 201,
     "metadata": {},
     "output_type": "execute_result"
    }
   ],
   "source": [
    "list()"
   ]
  },
  {
   "cell_type": "code",
   "execution_count": 202,
   "metadata": {},
   "outputs": [
    {
     "data": {
      "text/plain": [
       "97"
      ]
     },
     "execution_count": 202,
     "metadata": {},
     "output_type": "execute_result"
    }
   ],
   "source": [
    "ord('a')"
   ]
  },
  {
   "cell_type": "code",
   "execution_count": 203,
   "metadata": {},
   "outputs": [],
   "source": [
    "# build topo graph\n",
    "\n",
    "class Node(object):\n",
    "    NODES = {}\n",
    "    START = None\n",
    "    END = None\n",
    "    \n",
    "    UNCHECKED = set()\n",
    "    \n",
    "    _ZERO_OFFSET = -ord('a')\n",
    "    \n",
    "    def __init__(self, x, y, h):\n",
    "        self.x = x\n",
    "        self.y = y\n",
    "        \n",
    "        self._dist = None\n",
    "        \n",
    "        if h == 'S':\n",
    "            Node.START = self\n",
    "            self.h = ord('a') + Node._ZERO_OFFSET\n",
    "        elif h == 'E':\n",
    "            Node.END = self\n",
    "            self.h = ord('z') + Node._ZERO_OFFSET\n",
    "        else:\n",
    "            self.h = ord(h) + Node._ZERO_OFFSET\n",
    "        \n",
    "        Node.NODES[(x,y)] = self\n",
    "        \n",
    "        self._exits = None\n",
    "        \n",
    "    \n",
    "    @property\n",
    "    def dist(self):\n",
    "        return self._dist\n",
    "    \n",
    "    @dist.setter\n",
    "    def dist(self, new_value):\n",
    "        if self._dist is not None:\n",
    "            return # don't do anything if already set\n",
    "        self._dist = new_value\n",
    "        self.UNCHECKED.remove(self)\n",
    "        if self is self.END:\n",
    "            raise KeyboardInterrupt\n",
    "        \n",
    "    @classmethod\n",
    "    def reset_all_dist(cls):\n",
    "        cls.UNCHECKED = set(cls.NODES.values())\n",
    "        for node in cls.NODES.values():\n",
    "            node._dist = None\n",
    "        cls.START.dist = 0\n",
    "    \n",
    "    \n",
    "    @property\n",
    "    def exits(self):\n",
    "        if self._exits is None:\n",
    "            self._exits = set()\n",
    "            for x_offset, y_offset in [(-1,0), (1,0), (0,-1), (0,1)]:\n",
    "                try:\n",
    "                    node = Node.NODES[(self.x+x_offset, self.y+y_offset)]\n",
    "                except KeyError:\n",
    "                    continue\n",
    "                if -1 <= node.h - self.h <= 1:\n",
    "                    self._exits.add(node)\n",
    "        return self._exits\n",
    "    \n",
    "    \n",
    "    def deadend(self, exclusions):\n",
    "        return not bool(self.exits - exclusions)\n",
    "    \n",
    "\n",
    "    def __repr__(self):\n",
    "        return '[%2d %2d] %2d %s%s' % (self.x, self.y, self.h, chr(self.h + ord('a')), ' (%d from start)' % self._dist if self._dist else '')"
   ]
  },
  {
   "cell_type": "code",
   "execution_count": 204,
   "metadata": {},
   "outputs": [],
   "source": [
    "for y, line in enumerate(topo_raw.splitlines()):\n",
    "    for x, h in enumerate(line):\n",
    "        _ = Node(x,y,h)\n",
    "        \n",
    "for node in Node.NODES.values():\n",
    "    _ = node.exits"
   ]
  },
  {
   "cell_type": "code",
   "execution_count": 205,
   "metadata": {},
   "outputs": [
    {
     "data": {
      "text/plain": [
       "[ 0 20]  0 a"
      ]
     },
     "execution_count": 205,
     "metadata": {},
     "output_type": "execute_result"
    }
   ],
   "source": [
    "Node.START"
   ]
  },
  {
   "cell_type": "code",
   "execution_count": 206,
   "metadata": {},
   "outputs": [
    {
     "data": {
      "text/plain": [
       "{[ 0 19]  0 a, [ 0 21]  0 a, [ 1 20]  1 b}"
      ]
     },
     "execution_count": 206,
     "metadata": {},
     "output_type": "execute_result"
    }
   ],
   "source": [
    "Node.START.exits"
   ]
  },
  {
   "cell_type": "markdown",
   "metadata": {},
   "source": [
    "# Brute force didn't work, try one-shot exploration\n",
    "\n",
    "So spread a wave-front from origin. If the number of steps is set, don't follow it since it was reached earlier. If it's unset, merely set the step.\n",
    "\n"
   ]
  },
  {
   "cell_type": "code",
   "execution_count": 207,
   "metadata": {},
   "outputs": [],
   "source": [
    "from time import sleep\n",
    "from IPython.display import clear_output"
   ]
  },
  {
   "cell_type": "code",
   "execution_count": 212,
   "metadata": {},
   "outputs": [
    {
     "name": "stdout",
     "output_type": "stream",
     "text": [
      ".......aaaaaa...aaa..aaaaaaaa...aaaaaa............................aaaaaaaaaaaaaaca...............................aaaaaaaa.............................................aaaaa\n",
      ".......aaaaaaaa.aaaa..aaaaaa....aaaaaa..........aaa...............aaaaaaaaaaaaaaaa...............................aaaaaaaaa......aaa..................................aaaaaa\n",
      "......aaaaaaaaa.aaaa..aaaaaa....aaaaaaaa........aaa................aaaaaaaaaaaaaa....aaa..........................aaaaaaaa....a.aaa................aa................aaaaaa\n",
      ".....aaaaaaaaaa.aaa..aaaaaaaa.....aa..aaa.aa....aaaaaaa............aacaaaaaaaaa......aaaa....................aaa.aaaaaa......aaaaaaaa.............aaaa...............aaa.aa\n",
      ".....aaa.aaa........aaaaaaaaaa........aaaaaa.aaaaaaaaaa..............aaaaaaaaaa......aaaa................aa..aaa.aaaaaaa.....aaaaaaaa.............aaaa..aaa..............aa\n",
      ".........aaa........aaaaaaaaaa......aaaaaaa..aaaaaaaaa...............aaaa.aaaaaaaa...aaaa................aaaaaaa.aa..aaa.......aaaaa...............aaaaaaaaa.............aa\n",
      ".........aa.........a.aaaaa..a......aaaaaaa...aaaaaaa......aaa.......aa.a.aaaaaaaa.......................aaaaaa......aaa......aaaaa................aaaaaaaa................\n",
      ".......................aaaa...........aaaaaa....aaaaaa....aaaa.............aaaaaa..........a..aa..........aaaaaaaa............aaaaaa..................aaaa........aa.......\n",
      "...........aaa..........aa............aa.aaa...aaaaaaa....aaaa.............aaaaaa..........aaaaa.........aaaaaaaaa............a..aaa....................aa.........a.......\n",
      "...........aaaa..........aaa..........aa.......aaaacaa....aaaa.............aaaaaa...........aaaaa........aaaaaaaa.......aa..........................................aaa....\n",
      "...........aaaa..........aaaa..................aa.aaacaaa..........aa......aaa.aa..........aaaaaa.......aaaaaaa........aaaa..........................................aa....\n",
      "...........aaa...........aaaa.....................aaaaaaa.........aaa......................aaaa......aaa....aaa........aaaa..........................................a.....\n",
      ".........................aaa......................aaaaaa......aaaaaaa........................aaa.....aaa.a...aa........aaaa..........................................a.....\n",
      "................................................aaaaaaaa......aaaaaaaaaa..aa.......................aacaaaaa................aaa.....a..a..............................a.....\n",
      "........................aa......aaa.............aaaaaaaaa......aaaaaaaaa.aaaa......................aaaaaaaa............a...aa......aaaa..............................a.....\n",
      ".......................aaa.aa...aaaaa...........aaaaaaaaaa......aaaaaaa..aaaa.......................aaaaa..............aaaaaaa.....aaaaa...........xxx.....................\n",
      "...............aa.......aaaaa..aaaaa............aaaaaa.aaa.....aaaaaa....aaaa...................aaa..aaaaa....aaa......aaaaaaaa...aaaaaa..........xxxx..yyy................\n",
      "......c.......aaa.aa..aaaaaa...aaaaa............aaaaaa.........aaaaaaa............aa..a.........aaa.aaa.aa..aaaaa......aaaaaaaaa..aaaaaa..........xxxxxyyyy................\n",
      "........c......aaaaa..aaaaaaaa..aaaaa...........aaacaaa........aa..aaa............aaaaa......aaaaaaaaaa.....aaaaaa.....aaaaaaaaa....aac...........xxxxxyyyy................\n",
      ".............aaaaaa...aa.aaaaa..aa...........aaaaaaaaaaa............aa...........aaaaa.......aaaaaaaa.......aaaaaa.....aaaaaaaa................... xxxyyyy.................\n",
      "a............aaaaaaaa....aa...........aa.....aaaaaaaaaa..........................aaaaaa........aaaaa........aaaaa.....aaaaaaa.................. ..z . zyy..................\n",
      ".............aa.aaaaa...aa............aaa.....aaaaaaaaaaa..........................aaaa.......aaaaaa........aaaaa......acaaaa......................... yyy.................\n",
      "................aa.....aa.........a.a.aaa......aaaaaaaaaa.....................a...aa..........aaaaaa....................aaaaa.......................... yyy................\n",
      "...............aa..aaaaaa.........aaaaaaaaaa...aaaaaaaaaa.aa............aaaaaaaa..............a..aaa................aaa.aaa.........aa................ yyyy................\n",
      "....cc.............aaaaaaa........aaaaaaaaaa...aaaaaaaa...aaa............aaaaaa.....................................aaaaaaaaaa...aaaac............... .....................\n",
      ".....c..............aaaaaaa.........aaaaaa.....aa...aaa...aaaaaaa........aaaaaa..............aa......................aaaaaaaaa...aaaaaa..............y.....................\n",
      "....................aaaaaaa.........aaaaaa......aa......aaaaaaaa........aaaaaaaa........aa..aaa................aa.....aaaaaaa.....aaaaa....................................\n",
      "...................aaaaaa...........aaaaaa.....aaaa....aaaaaaaaa.......aaaaaaaaaa.......aaa.aaa.............a.aaa....aaaaaa......aaaaa.....................................\n",
      "...................aaaaaa..........aaaaaaaa....aaaa....aaaaaaaa........aaaaaaaaaa.aaa...aaaaaa......aa.....aaaaa..a..aaaaaaa.....a..aa.....................................\n",
      ".................aa....aa..........aaaaaaa.....aaaa.......aaaaaa...aa..a.aaaaa....aaa....aaaaaaaaaa.aaa....aaaaaaaa..aaa.aaa...............................................\n",
      "................aaa.aa.............aaaaaaaa..............aaaaaaa...aa.....aaaa....aaaaaaaaaaaaaaaaaaaa.......aaaaa........aaaa.......................................aa....\n",
      ".................aaaaa............aaaaaaaaa..............aaa..aaaaaaaaaa...aa..aaaaaaaaaaaaaaaaacaaaaaaa....aaaaa.......aaaaaa......................................aaa....\n",
      "...............aaaaaa.......aaa.aaacaaaaaaa.............aaaa....aaaaaaaa.......aaaaaaaaaaaaaaa..aaaaaaaa....aa.aa.......aaaaaa....................................aaaaa....\n",
      "...............aaaaaaaa.....aaaaaaaaaaaaa................aaaa.....aaaa.....aa...aaaaaaa....aaa..aaaaaaaa.......aa........aaaaaaa................................a.aaa......\n",
      "...........aa..aacaaaaa......aaaaaaaaaaaa......aa..aa..aaaaaa....aaaaa....aa......aaaaaa...aaa..aa.aaa..aaaa.............aaaaaaa..................................aaa......\n",
      ".........aaaaaa..aaa.........aaaaaaaaccaaa.....aaaaaa..aaaaa.....aaaaaa...aaa..aaaaaaaaa...........aaa..aaaaa...........aaaaaaaaa..aa......................................\n",
      ".........aaaaaa..aa........aaaaaaaaaacccaa.....aaaaa....aaaaa....a...aa..aaaa..aaaaa..aa...............aaaaaa.......aaa.aaaaaaaaaaaaa...................aa.............a...\n",
      ".........aaaaaa........aaa.aaaaaaaaaaaaaaaaaa..aaaaaa...aa..a.......aaaaaaaaaaaaaaa..............aaaa..aaaaaa.......aaaaaaaaaacaaaaaa............a.....aaa............aaaaa\n",
      ".........aaaaa........aaaa.aaa.aaacccaaaaaaaa.aaaaaaaa..............aaaaaaaaaaaaaaa.............aaaaa...aaaaa........aaaaaacaaaaaaaa..............a....aaa.............aaaa\n",
      "..........aaaa........aaaa.....aaacccccaaaa...aaaaaaaa...............aaaaaaaaaaaaaa.............aaaaaa..aaa..........aaaaaaaaaaaaaaaa....................a.............aaaa\n",
      ".......................aaa.....aacccccaaaaaa.....aa.....................aaaaaaaaa...............aaaaaa.............aaaaaaaaaaaaaaaaaaa...............................aaaaaa\n"
     ]
    },
    {
     "ename": "KeyboardInterrupt",
     "evalue": "",
     "output_type": "error",
     "traceback": [
      "\u001b[1;31m---------------------------------------------------------------------------\u001b[0m",
      "\u001b[1;31mKeyboardInterrupt\u001b[0m                         Traceback (most recent call last)",
      "\u001b[1;32m<ipython-input-212-03de91418a81>\u001b[0m in \u001b[0;36m<module>\u001b[1;34m\u001b[0m\n\u001b[0;32m     18\u001b[0m \u001b[1;33m\u001b[0m\u001b[0m\n\u001b[0;32m     19\u001b[0m     \u001b[1;32mfor\u001b[0m \u001b[0mexit\u001b[0m \u001b[1;32min\u001b[0m \u001b[0mexits\u001b[0m\u001b[1;33m:\u001b[0m\u001b[1;33m\u001b[0m\u001b[1;33m\u001b[0m\u001b[0m\n\u001b[1;32m---> 20\u001b[1;33m         \u001b[0mexit\u001b[0m\u001b[1;33m.\u001b[0m\u001b[0mdist\u001b[0m \u001b[1;33m=\u001b[0m \u001b[0mstep\u001b[0m\u001b[1;33m\u001b[0m\u001b[1;33m\u001b[0m\u001b[0m\n\u001b[0m\u001b[0;32m     21\u001b[0m \u001b[1;33m\u001b[0m\u001b[0m\n\u001b[0;32m     22\u001b[0m     \u001b[0mfront\u001b[0m \u001b[1;33m=\u001b[0m \u001b[0mexits\u001b[0m\u001b[1;33m\u001b[0m\u001b[1;33m\u001b[0m\u001b[0m\n",
      "\u001b[1;32m<ipython-input-203-6dafc3bbfb85>\u001b[0m in \u001b[0;36mdist\u001b[1;34m(self, new_value)\u001b[0m\n\u001b[0;32m     41\u001b[0m         \u001b[0mself\u001b[0m\u001b[1;33m.\u001b[0m\u001b[0mUNCHECKED\u001b[0m\u001b[1;33m.\u001b[0m\u001b[0mremove\u001b[0m\u001b[1;33m(\u001b[0m\u001b[0mself\u001b[0m\u001b[1;33m)\u001b[0m\u001b[1;33m\u001b[0m\u001b[1;33m\u001b[0m\u001b[0m\n\u001b[0;32m     42\u001b[0m         \u001b[1;32mif\u001b[0m \u001b[0mself\u001b[0m \u001b[1;32mis\u001b[0m \u001b[0mself\u001b[0m\u001b[1;33m.\u001b[0m\u001b[0mEND\u001b[0m\u001b[1;33m:\u001b[0m\u001b[1;33m\u001b[0m\u001b[1;33m\u001b[0m\u001b[0m\n\u001b[1;32m---> 43\u001b[1;33m             \u001b[1;32mraise\u001b[0m \u001b[0mKeyboardInterrupt\u001b[0m\u001b[1;33m\u001b[0m\u001b[1;33m\u001b[0m\u001b[0m\n\u001b[0m\u001b[0;32m     44\u001b[0m \u001b[1;33m\u001b[0m\u001b[0m\n\u001b[0;32m     45\u001b[0m     \u001b[1;33m@\u001b[0m\u001b[0mclassmethod\u001b[0m\u001b[1;33m\u001b[0m\u001b[1;33m\u001b[0m\u001b[0m\n",
      "\u001b[1;31mKeyboardInterrupt\u001b[0m: "
     ]
    }
   ],
   "source": [
    "Node.reset_all_dist()\n",
    "\n",
    "front = set([Node.START])\n",
    "\n",
    "for step in range(1,100000):\n",
    "    clear_output(wait=True)\n",
    "    print_topo(front)\n",
    "    sleep(0.2)\n",
    "\n",
    "    exits = set(exit\n",
    "                for node in front\n",
    "                for exit in node.exits\n",
    "                if exit in Node.UNCHECKED\n",
    "               )\n",
    "    \n",
    "    if not exits:\n",
    "        raise RuntimeError('Graph dried up at step %d' %step)\n",
    "    \n",
    "    for exit in exits:\n",
    "        exit.dist = step\n",
    "            \n",
    "    front = exits\n"
   ]
  },
  {
   "cell_type": "code",
   "execution_count": 210,
   "metadata": {},
   "outputs": [
    {
     "data": {
      "text/plain": [
       "[146 20] 25 z (520 from start)"
      ]
     },
     "execution_count": 210,
     "metadata": {},
     "output_type": "execute_result"
    }
   ],
   "source": [
    "Node.END"
   ]
  },
  {
   "cell_type": "markdown",
   "metadata": {},
   "source": [
    "# PART TWO: RUN IT BACKWARDS"
   ]
  },
  {
   "cell_type": "code",
   "execution_count": null,
   "metadata": {},
   "outputs": [],
   "source": []
  },
  {
   "cell_type": "code",
   "execution_count": 219,
   "metadata": {},
   "outputs": [],
   "source": [
    "# build topo graph\n",
    "\n",
    "class Node(object):\n",
    "    NODES = {}\n",
    "    START = None\n",
    "    \n",
    "    UNCHECKED = set()\n",
    "    \n",
    "    _ZERO_OFFSET = -ord('a')\n",
    "    \n",
    "    def __init__(self, x, y, h):\n",
    "        self.x = x\n",
    "        self.y = y\n",
    "        \n",
    "        self._dist = None\n",
    "        \n",
    "#         if h == 'S':\n",
    "#             Node.START = self\n",
    "#             self.h = ord('a') + Node._ZERO_OFFSET\n",
    "        if h == 'E':\n",
    "            Node.START = self\n",
    "            self.h = ord('z') + Node._ZERO_OFFSET\n",
    "        else:\n",
    "            self.h = ord(h) + Node._ZERO_OFFSET\n",
    "        \n",
    "        Node.NODES[(x,y)] = self\n",
    "        \n",
    "        self._exits = None\n",
    "        \n",
    "    \n",
    "    @property\n",
    "    def dist(self):\n",
    "        return self._dist\n",
    "    \n",
    "    @dist.setter\n",
    "    def dist(self, new_value):\n",
    "        if self._dist is not None:\n",
    "            return # don't do anything if already set\n",
    "        self._dist = new_value\n",
    "        self.UNCHECKED.remove(self)\n",
    "        if self.h == 0:\n",
    "            raise KeyboardInterrupt\n",
    "        \n",
    "    @classmethod\n",
    "    def reset_all_dist(cls):\n",
    "        cls.UNCHECKED = set(cls.NODES.values())\n",
    "        for node in cls.NODES.values():\n",
    "            node._dist = None\n",
    "        cls.START.dist = 0\n",
    "    \n",
    "    \n",
    "    @property\n",
    "    def exits(self):\n",
    "        if self._exits is None:\n",
    "            self._exits = set()\n",
    "            for x_offset, y_offset in [(-1,0), (1,0), (0,-1), (0,1)]:\n",
    "                try:\n",
    "                    node = Node.NODES[(self.x+x_offset, self.y+y_offset)]\n",
    "                except KeyError:\n",
    "                    continue\n",
    "                if -1 <= node.h - self.h <= 1:\n",
    "                    self._exits.add(node)\n",
    "        return self._exits\n",
    "    \n",
    "    \n",
    "    def deadend(self, exclusions):\n",
    "        return not bool(self.exits - exclusions)\n",
    "    \n",
    "\n",
    "    def __repr__(self):\n",
    "        return '[%2d %2d] %2d %s%s' % (self.x, self.y, self.h, chr(self.h + ord('a')), ' (%d from start)' % self._dist if self._dist else '')"
   ]
  },
  {
   "cell_type": "code",
   "execution_count": 220,
   "metadata": {},
   "outputs": [],
   "source": [
    "for y, line in enumerate(topo_raw.splitlines()):\n",
    "    for x, h in enumerate(line):\n",
    "        _ = Node(x,y,h)\n",
    "        \n",
    "for node in Node.NODES.values():\n",
    "    _ = node.exits"
   ]
  },
  {
   "cell_type": "code",
   "execution_count": 221,
   "metadata": {},
   "outputs": [
    {
     "name": "stdout",
     "output_type": "stream",
     "text": [
      "abcccccaaaaaa...aaa..aaaaaaaa...aaaaaa............................aaaaaaaaaaaaaaca...............................aaaaaaaa.............................................aaaaa\n",
      "abcccccaaaaaaaa.aaaa..aaaaaa....aaaaaa..........aaa...............aaaaaaaaaaaaaaaa...............................aaaaaaaaa......aaa..................................aaaaaa\n",
      "abccccaaaaaaaaa.aaaa..aaaaaa....aaaaaaaa........aaa................aaaaaaaaaaaaaa....aaa..........................aaaaaaaa....a.aaa................aa................aaaaaa\n",
      "abcc aaaaaaaaaa.aaa..aaaaaaaa.....aa..aaa.aa....aaaaaaa............aacaaaaaaaaa......aaaa....................aaa.aaaaaa......aaaaaaaa.............aaaa...............aaa.aa\n",
      "abc .aaa.aaa........aaaaaaaaaa........aaaaaa.aaaaaaaaaa..............aaaaaaaaaa......aaaa................aa..aaa.aaaaaaa.....aaaaaaaa.............aaaa..aaa..............aa\n",
      "ab ......aaa........aaaaaaaaaa......aaaaaaa..aaaaaaaaa...............aaaa.aaaaaaaa...aaaa................aaaaaaa.aa..aaa.......aaaaa...............aaaaaaaaa.............aa\n",
      "a .......aa.........a.aaaaa..a......aaaaaaa...aaaaaaa......aaa.......aa.a.aaaaaaaa.......................aaaaaa......aaa......aaaaa................aaaaaaaa................\n",
      "aba....................aaaa...........aaaaaa....aaaaaa....aaaa.............aaaaaa..........a..aa..........aaaaaaaa............aaaaaa..................aaaa........aa.......\n",
      "aba........aaa..........aa............aa.aaa...aaaaaaa....aaaa.............aaaaaa..........aaaaa.........aaaaaaaaa............a..aaa....................aa.........a.......\n",
      "abaa.......aaaa..........aaa..........aa.......aaaacaa....aaaa.............aaaaaa...........aaaaa........aaaaaaaa.......aa..........................................aaa....\n",
      "abaa.......aaaa..........aaaa..................aa.aaacaaa..........aa......aaa.aa..........aaaaaa.......aaaaaaa........aaaa..........................................aa....\n",
      "abac ......aaa...........aaaa.....................aaaaaaa.........aaa......................aaaa......aaa....aaa........aaaa..........................................a.....\n",
      "abacc aaaaa..............aaa......................aaaaaa......aaaaaaa........................aaa.....aaa.a...aa........aaaa..........................................a.....\n",
      "abccccaaaaa.....................................aaaaaaaa......aaaaaaaaaa..aa.......................aacaaaaa................aaa.....a..a..............................a.....\n",
      "abcccaaaaaa.............aa......aaa.............aaaaaaaaa......aaaaaaaaa.aaaa......................aaaaaaaa............a...aa......aaaa..............................a.....\n",
      "abcccaaaaaa............aaa.aa...aaaaa...........aaaaaaaaaa......aaaaaaa..aaaa.......................aaaaa..............aaaaaaa.....aaaaa...................................\n",
      "abcccaaaaaa....aa.......aaaaa..aaaaa............aaaaaa.aaa.....aaaaaa....aaaa...................aaa..aaaaa....aaa......aaaaaaaa...aaaaaa...................................\n",
      "abcccacaa.....aaa.aa..aaaaaa...aaaaa............aaaaaa.........aaaaaaa............aa..a.........aaa.aaa.aa..aaaaa......aaaaaaaaa..aaaaaa...................................\n",
      "abcccaaacaaa...aaaaa..aaaaaaaa..aaaaa...........aaacaaa........aa..aaa............aaaaa......aaaaaaaaaa.....aaaaaa.....aaaaaaaaa....aac....................................\n",
      "abcccaaaaaaa.aaaaaa...aa.aaaaa..aa...........aaaaaaaaaaa............aa...........aaaaa.......aaaaaaaa.......aaaaaa.....aaaaaaaa............................................\n",
      "Sbcccaaaaaa..aaaaaaaa....aa...........aa.....aaaaaaaaaa..........................aaaaaa........aaaaa........aaaaa.....aaaaaaa.....................z........................\n",
      "abccaaaaaaaa.aa.aaaaa...aa............aaa.....aaaaaaaaaaa..........................aaaa.......aaaaaa........aaaaa......acaaaa..............................................\n",
      "abcaaaaaaaaaa...aa.....aa.........a.a.aaa......aaaaaaaaaa.....................a...aa..........aaaaaa....................aaaaa..............................................\n",
      "abcaaaaaaaaaa..aa..aaaaaa.........aaaaaaaaaa...aaaaaaaaaa.aa............aaaaaaaa..............a..aaa................aaa.aaa.........aa.....................................\n",
      "abaaccaaa.aaa......aaaaaaa........aaaaaaaaaa...aaaaaaaa...aaa............aaaaaa.....................................aaaaaaaaaa...aaaac.....................................\n",
      "abaaacaaa...........aaaaaaa.........aaaaaa.....aa...aaa...aaaaaaa........aaaaaa..............aa......................aaaaaaaaa...aaaaaa....................................\n",
      "abaaaaaaa...........aaaaaaa.........aaaaaa......aa......aaaaaaaa........aaaaaaaa........aa..aaa................aa.....aaaaaaa.....aaaaa....................................\n",
      "abcaaaaaa..........aaaaaa...........aaaaaa.....aaaa....aaaaaaaaa.......aaaaaaaaaa.......aaa.aaa.............a.aaa....aaaaaa......aaaaa.....................................\n",
      "abaaaaaac .........aaaaaa..........aaaaaaaa....aaaa....aaaaaaaa........aaaaaaaaaa.aaa...aaaaaa......aa.....aaaaa..a..aaaaaaa.....a..aa.....................................\n",
      "abaaaaaaac ......aa....aa..........aaaaaaa.....aaaa.......aaaaaa...aa..a.aaaaa....aaa....aaaaaaaaaa.aaa....aaaaaaaa..aaa.aaa...............................................\n",
      "abaaaaaaaac ....aaa.aa.............aaaaaaaa..............aaaaaaa...aa.....aaaa....aaaaaaaaaaaaaaaaaaaa.......aaaaa........aaaa.......................................aa....\n",
      "abcaaacaaacc ....aaaaa............aaaaaaaaa..............aaa..aaaaaaaaaa...aa..aaaaaaaaaaaaaaaaacaaaaaaa....aaaaa.......aaaaaa......................................aaa....\n",
      "abcaaaccccccc .aaaaaa.......aaa.aaacaaaaaaa.............aaaa....aaaaaaaa.......aaaaaaaaaaaaaaa..aaaaaaaa....aa.aa.......aaaaaa....................................aaaaa....\n",
      "abcaaccccccccc aaaaaaaa.....aaaaaaaaaaaaa................aaaa.....aaaa.....aa...aaaaaaa....aaa..aaaaaaaa.......aa........aaaaaaa................................a.aaa......\n",
      "abcccccccccaaccaacaaaaa......aaaaaaaaaaaa......aa..aa..aaaaaa....aaaaa....aa......aaaaaa...aaa..aa.aaa..aaaa.............aaaaaaa..................................aaa......\n",
      "abcccccccaaaaaac aaa.........aaaaaaaaccaaa.....aaaaaa..aaaaa.....aaaaaa...aaa..aaaaaaaaa...........aaa..aaaaa...........aaaaaaaaa..aa......................................\n",
      "abcaaccccaaaaaa .aa........aaaaaaaaaacccaa.....aaaaa....aaaaa....a...aa..aaaa..aaaaa..aa...............aaaaaa.......aaa.aaaaaaaaaaaaa...................aa.............a...\n",
      "abaaaccccaaaaaa........aaa.aaaaaaaaaaaaaaaaaa..aaaaaa...aa..a.......aaaaaaaaaaaaaaa..............aaaa..aaaaaa.......aaaaaaaaaacaaaaaa............a.....aaa............aaaaa\n",
      "abaaaacccaaaaac ......aaaa.aaa.aaacccaaaaaaaa.aaaaaaaa..............aaaaaaaaaaaaaaa.............aaaaa...aaaaa........aaaaaacaaaaaaaa..............a....aaa.............aaaa\n",
      "abaaaaccccaaaacc .....aaaa.....aaacccccaaaa...aaaaaaaa...............aaaaaaaaaaaaaa.............aaaaaa..aaa..........aaaaaaaaaaaaaaaa....................a.............aaaa\n",
      "abaaccccccccccccc .....aaa.....aacccccaaaaaa.....aa.....................aaaaaaaaa...............aaaaaa.............aaaaaaaaaaaaaaaaaaa...............................aaaaaa\n"
     ]
    },
    {
     "ename": "KeyboardInterrupt",
     "evalue": "",
     "output_type": "error",
     "traceback": [
      "\u001b[1;31m---------------------------------------------------------------------------\u001b[0m",
      "\u001b[1;31mKeyboardInterrupt\u001b[0m                         Traceback (most recent call last)",
      "\u001b[1;32m<ipython-input-221-03de91418a81>\u001b[0m in \u001b[0;36m<module>\u001b[1;34m\u001b[0m\n\u001b[0;32m     18\u001b[0m \u001b[1;33m\u001b[0m\u001b[0m\n\u001b[0;32m     19\u001b[0m     \u001b[1;32mfor\u001b[0m \u001b[0mexit\u001b[0m \u001b[1;32min\u001b[0m \u001b[0mexits\u001b[0m\u001b[1;33m:\u001b[0m\u001b[1;33m\u001b[0m\u001b[1;33m\u001b[0m\u001b[0m\n\u001b[1;32m---> 20\u001b[1;33m         \u001b[0mexit\u001b[0m\u001b[1;33m.\u001b[0m\u001b[0mdist\u001b[0m \u001b[1;33m=\u001b[0m \u001b[0mstep\u001b[0m\u001b[1;33m\u001b[0m\u001b[1;33m\u001b[0m\u001b[0m\n\u001b[0m\u001b[0;32m     21\u001b[0m \u001b[1;33m\u001b[0m\u001b[0m\n\u001b[0;32m     22\u001b[0m     \u001b[0mfront\u001b[0m \u001b[1;33m=\u001b[0m \u001b[0mexits\u001b[0m\u001b[1;33m\u001b[0m\u001b[1;33m\u001b[0m\u001b[0m\n",
      "\u001b[1;32m<ipython-input-219-27ccc723ecde>\u001b[0m in \u001b[0;36mdist\u001b[1;34m(self, new_value)\u001b[0m\n\u001b[0;32m     40\u001b[0m         \u001b[0mself\u001b[0m\u001b[1;33m.\u001b[0m\u001b[0mUNCHECKED\u001b[0m\u001b[1;33m.\u001b[0m\u001b[0mremove\u001b[0m\u001b[1;33m(\u001b[0m\u001b[0mself\u001b[0m\u001b[1;33m)\u001b[0m\u001b[1;33m\u001b[0m\u001b[1;33m\u001b[0m\u001b[0m\n\u001b[0;32m     41\u001b[0m         \u001b[1;32mif\u001b[0m \u001b[0mself\u001b[0m\u001b[1;33m.\u001b[0m\u001b[0mh\u001b[0m \u001b[1;33m==\u001b[0m \u001b[1;36m0\u001b[0m\u001b[1;33m:\u001b[0m\u001b[1;33m\u001b[0m\u001b[1;33m\u001b[0m\u001b[0m\n\u001b[1;32m---> 42\u001b[1;33m             \u001b[1;32mraise\u001b[0m \u001b[0mKeyboardInterrupt\u001b[0m\u001b[1;33m\u001b[0m\u001b[1;33m\u001b[0m\u001b[0m\n\u001b[0m\u001b[0;32m     43\u001b[0m \u001b[1;33m\u001b[0m\u001b[0m\n\u001b[0;32m     44\u001b[0m     \u001b[1;33m@\u001b[0m\u001b[0mclassmethod\u001b[0m\u001b[1;33m\u001b[0m\u001b[1;33m\u001b[0m\u001b[0m\n",
      "\u001b[1;31mKeyboardInterrupt\u001b[0m: "
     ]
    }
   ],
   "source": [
    "Node.reset_all_dist()\n",
    "\n",
    "front = set([Node.START])\n",
    "\n",
    "for step in range(1,100000):\n",
    "    clear_output(wait=True)\n",
    "    print_topo(front)\n",
    "    sleep(0.2)\n",
    "\n",
    "    exits = set(exit\n",
    "                for node in front\n",
    "                for exit in node.exits\n",
    "                if exit in Node.UNCHECKED\n",
    "               )\n",
    "    \n",
    "    if not exits:\n",
    "        raise RuntimeError('Graph dried up at step %d' %step)\n",
    "    \n",
    "    for exit in exits:\n",
    "        exit.dist = step\n",
    "            \n",
    "    front = exits\n"
   ]
  },
  {
   "cell_type": "code",
   "execution_count": 222,
   "metadata": {},
   "outputs": [
    {
     "data": {
      "text/plain": [
       "508"
      ]
     },
     "execution_count": 222,
     "metadata": {},
     "output_type": "execute_result"
    }
   ],
   "source": [
    "step"
   ]
  },
  {
   "cell_type": "markdown",
   "metadata": {},
   "source": [
    "# Old nonsense work while I was both feeling out the problem and then discovering the bug in my input"
   ]
  },
  {
   "cell_type": "code",
   "execution_count": 209,
   "metadata": {},
   "outputs": [
    {
     "data": {
      "text/plain": [
       "[ 0 20]  0 a"
      ]
     },
     "execution_count": 209,
     "metadata": {},
     "output_type": "execute_result"
    }
   ],
   "source": [
    "Node.START"
   ]
  },
  {
   "cell_type": "code",
   "execution_count": 136,
   "metadata": {},
   "outputs": [
    {
     "data": {
      "text/plain": [
       "{[162 24] 12 m (358 from start)}"
      ]
     },
     "execution_count": 136,
     "metadata": {},
     "output_type": "execute_result"
    }
   ],
   "source": [
    "front"
   ]
  },
  {
   "cell_type": "code",
   "execution_count": 137,
   "metadata": {},
   "outputs": [
    {
     "data": {
      "text/plain": [
       "{[162 24] 12 m (358 from start)}"
      ]
     },
     "execution_count": 137,
     "metadata": {},
     "output_type": "execute_result"
    }
   ],
   "source": [
    "front"
   ]
  },
  {
   "cell_type": "code",
   "execution_count": 138,
   "metadata": {},
   "outputs": [
    {
     "data": {
      "text/plain": [
       "set()"
      ]
     },
     "execution_count": 138,
     "metadata": {},
     "output_type": "execute_result"
    }
   ],
   "source": [
    "exits"
   ]
  },
  {
   "cell_type": "code",
   "execution_count": 186,
   "metadata": {},
   "outputs": [],
   "source": [
    "def print_topo(highlight=set()):\n",
    "    line = []\n",
    "    n = 0\n",
    "    for x,y in sorted(Node.NODES, key=lambda e: (e[1], e[0])):\n",
    "        if y != n:\n",
    "            print(''.join(line))\n",
    "            line = []\n",
    "            n += 1\n",
    "        node = Node.NODES[(x,y)]\n",
    "        line.append(\n",
    "                ' ' if node in highlight else # interactive!\n",
    "                chr(ord('a') + node.h) if not node.dist # pending\n",
    "                else '.' # already visited\n",
    "        )\n",
    "    else:\n",
    "        print(''.join(line))\n"
   ]
  },
  {
   "cell_type": "code",
   "execution_count": 187,
   "metadata": {},
   "outputs": [
    {
     "name": "stdout",
     "output_type": "stream",
     "text": [
      ".......aaaaaa...aaa..aaaaaaaacccaaaaaaccccccccccccccccccccccccccccaaaaaaaaaaaaaacacccccccccccccccccccccccccccccccaaaaaaaacccccccccccccccccccccccccccccccccccccccccccccaaaaa\n",
      ".......aaaaaaaa.aaaa..aaaaaaccccaaaaaaccccccccccaaacccccccccccccccaaaaaaaaaaaaaaaacccccccccccccccccccccccccccccccaaaaaaaaaccccccaaaccccccccccccccccccccccccccccccccccaaaaaa\n",
      "......aaaaaaaaa.aaaa..aaaaaaccccaaaaaaaaccccccccaaaccccccccccccccccaaaaaaaaaaaaaaccccaaaccccccccccccccccccccccccccaaaaaaaaccccacaaaccccccccccccccccaaccccccccccccccccaaaaaa\n",
      ".....aaaaaaaaaa.aaa..aaaaaaaacccccaaccaaacaaccccaaaaaaaccccccccccccaacaaaaaaaaaccccccaaaaccccccccccccccccccccaaacaaaaaaccccccaaaaaaaacccccccccccccaaaacccccccccccccccaaacaa\n",
      ".....aaa.aaa........aaaaaaaaaaccccccccaaaaaacaaaaaaaaaaccccccccccccccaaaaaaaaaaccccccaaaaccccccccccccccccaaccaaacaaaaaaacccccaaaaaaaacccccccccccccaaaaccaaaccccccccccccccaa\n",
      ".........aaa........aaaaaaaaaaccccccaaaaaaaccaaaaaaaaacccccccccccccccaaaacaaaaaaaacccaaaaccccccccccccccccaaaaaaacaaccaaacccccccaaaaacccccccccccccccaaaaaaaaacccccccccccccaa\n",
      ".........aa.........a.aaaaaccaccccccaaaaaaacccaaaaaaaccccccaaacccccccaacacaaaaaaaacccccccccccccccccccccccaaaaaaccccccaaaccccccaaaaaccccccccccccjjkkaaaaaaaacccccccccccccccc\n",
      ".......................aaaacccccccccccaaaaaaccccaaaaaaccccaaaacccccccccccccaaaaaaccccccccccaccaaccccccccccaaaaaaaaccccccccccccaaaaaaccccccccccjjjkkkkkaaaaccccccccaaccccccc\n",
      "...........aaa..........aaccccccccccccaacaaacccaaaaaaaccccaaaacccccccccccccaaaaaaccccccccccaaaaacccccccccaaaaaaaaaccccccccccccaccaaacccccccccjjjjkkkkkkkaacccccccccaccccccc\n",
      "...........aaaa..........aaaccccccccccaacccccccaaaacaaccccaaaacccccccccccccaaaaaacccccccccccaaaaaccccccccaaaaaaaacccccccaaccccccccccccccccccjjjjoooookkkkkllllllccccaaacccc\n",
      "...........aaaa..........aaaaccccccccccccccccccaacaaacaaaccccccccccaaccccccaaacaaccccccccccaaaaaacccccccaaaaaaaccccccccaaaacccccccccccccccccjjjoooooopkkkklllllllccccaacccc\n",
      "...........aaa...........aaaa.ccccccccccccccccccccaaaaaaacccccccccaaaccccccccccccccccccccccaaaaccccccaaaccccaaaccccccccaaaacccccccccccccccccjjooooooopppklppplllllcccaccccc\n",
      ".........................aaa...cccccccccccccccccccaaaaaaccccccaaaaaaaccccccccccccccccccccccccaaacccccaaacacccaaccccccccaaaaccccccccccccccccjjjooouuuupppppppppplllcccaccccc\n",
      "................................ccccccccccccccccaaaaaaaaccccccaaaaaaaaaaccaacccccccccccccccccccccccaacaaaaaccccccccccccccccaaacccccaccaccccjjjoouuuuuupppppppppllllccaccccc\n",
      "........................aa.....caaacccccccccccccaaaaaaaaaccccccaaaaaaaaacaaaaccccccccccccccccccccccaaaaaaaaccccccccccccacccaaccccccaaaacccjjjjoouuuuuuupuuuvvpqqlllccaccccc\n",
      ".......................aaa.aa.ccaaaaacccccccccccaaaaaaaaaaccccccaaaaaaaccaaaacccccccccccccccccccccccaaaaaccccccccccccccaaaaaaacccccaaaaaccijjooouuuxxxuuuuvvvqqqlmccccccccc\n",
      "...............aa.......aaaaaccaaaaaccccccccccccaaaaaacaaacccccaaaaaaccccaaaacccccccccccccccccccaaaccaaaaaccccaaaccccccaaaaaaaacccaaaaaaciiiinootuxxxxuuyyyvvqqqmmccccccccc\n",
      "......c.......aaa.aa..aaaaaacccaaaaaccccccccccccaaaaaacccccccccaaaaaaaccccccccccccaaccacccccccccaaacaaacaaccaaaaaccccccaaaaaaaaaccaaaaaaiiinnnnnttxxxxxyyyyvvqqqmmdddcccccc\n",
      "........c......aaaaa..aaaaaaaaccaaaaacccccccccccaaacaaaccccccccaaccaaaccccccccccccaaaaaccccccaaaaaaaaaacccccaaaaaacccccaaaaaaaaaccccaaciiinnnnttttxxxxxyyyyvvqqmmmdddcccccc\n",
      ".............aaaaaa...aacaaaaaccaacccccccccccaaaaaaaaaaaccccccccccccaacccccccccccaaaaacccccccaaaaaaaacccccccaaaaaacccccaaaaaaaaccccccciiinnnnttttxxxxxyyyyvvqqqmmmdddcccccc\n",
      "a............aaaaaaaa....aacccccccccccaacccccaaaaaaaaaaccccccccccccccccccccccccccaaaaaaccccccccaaaaaccccccccaaaaacccccaaaaaaaccccccccciiinnntttxxxzzzzzyyvvvqqqmmmdddcccccc\n",
      ".............aa.aaaaa...aaccccccccccccaaacccccaaaaaaaaaaaccccccccccccccccccccccccccaaaacccccccaaaaaaccccccccaaaaaccccccacaaaaccccccccciiinnntttxxxxxyyyyyyvvvqqmmmdddcccccc\n",
      "................aa.....aacccccccccacacaaaccccccaaaaaaaaaacccccccccccccccccccccacccaaccccccccccaaaaaaccccccccccccccccccccaaaaaccccccccciiinnntttxxxxyyyyyyyyvvvqqmmmdddccccc\n",
      "...............aa..aaaaaacccccccccaaaaaaaaaacccaaaaaaaaaacaaccccccccccccaaaaaaaaccccccccccccccaccaaaccccccccccccccccaaacaaacccccccccaaiiinnnttttxxwwyyyyyyyvvvqqmmmdddccccc\n",
      "....cc.............aaaaaaaccccccccaaaaaaaaaacccaaaaaaaacccaaaccccccccccccaaaaaacccccccccccccccccccccccccccccccccccccaaaaaaaaaacccaaaachhhnnnntttsswwyywwwwwvvvrrqkmdddccccc\n",
      ".....c..............aaaaaaacccccccccaaaaaacccccaacccaaacccaaaaaaaccccccccaaaaaaccccccccccccccaaccccccccccccccccccccccaaaaaaaaacccaaaaaahhhmmmmmsssswwywwwwwwvrrrrkkdddccccc\n",
      "....................aaaaaaacccccccccaaaaaaccccccaaccccccaaaaaaaaccccccccaaaaaaaaccccccccaaccaaaccccccccccccccccaacccccaaaaaaacccccaaaaahhhhhmmmmssswwwwwrrrrrrrrkkkeeeccccc\n",
      "...................aaaaaacccccccccccaaaaaacccccaaaaccccaaaaaaaaacccccccaaaaaaaaaacccccccaaacaaacccccccccccccacaaaccccaaaaaaccccccaaaaacchhhhhmmmmsswwwwrrrrrrrrrkkkeeeccccc\n",
      "...................aaaaaaccccccccccaaaaaaaaccccaaaaccccaaaaaaaaccccccccaaaaaaaaaacaaacccaaaaaaccccccaacccccaaaaaccaccaaaaaaacccccaccaacccchhhhmmmssswwsrrrrrrrkkkkkeeeccccc\n",
      ".................aaccccaaccccccccccaaaaaaacccccaaaacccccccaaaaaacccaaccacaaaaaccccaaaccccaaaaaaaaaacaaaccccaaaaaaaaccaaacaaaccccccccccccccchhhhmmssssssrlllkkkkkkkeeecccccc\n",
      "................aaacaacccccccccccccaaaaaaaaccccccccccccccaaaaaaacccaacccccaaaaccccaaaaaaaaaaaaaaaaaaaacccccccaaaaaccccccccaaaacccccccccccccchhgmmmsssssllllkkkkkeeeeeaacccc\n",
      ".................aaaaaccccccccccccaaaaaaaaaccccccccccccccaaaccaaaaaaaaaacccaaccaaaaaaaaaaaaaaaaacaaaaaaaccccaaaaacccccccaaaaaacccccccccccccccggmmmlssslllllffeeeeeeeaaacccc\n",
      "...............aaaaaacccccccaaacaaacaaaaaaacccccccccccccaaaaccccaaaaaaaacccccccaaaaaaaaaaaaaaaccaaaaaaaaccccaacaacccccccaaaaaacccccccccccccccgggmmlllllllfffffeeeeaaaaacccc\n",
      "...............aaaaaaaa.ccccaaaaaaaaaaaaaccccccccccccccccaaaacccccaaaacccccaacccaaaaaaaccccaaaccaaaaaaaacccccccaaccccccccaaaaaaaccccccccccccccggglllllllffffffecacaaacccccc\n",
      "...........aa..aacaaaaa..ccccaaaaaaaaaaaaccccccaaccaaccaaaaaaccccaaaaaccccaaccccccaaaaaacccaaaccaacaaaccaaaacccccccccccccaaaaaaaccccccccccccccggggllllfffffcccccccaaacccccc\n",
      ".........aaaaaa..aaa......cccaaaaaaaaccaaacccccaaaaaaccaaaaacccccaaaaaacccaaaccaaaaaaaaacccccccccccaaaccaaaaacccccccccccaaaaaaaaaccaaccccccccccggggggfffffccccccccccccccccc\n",
      ".........aaaaaa..aa........aaaaaaaaaacccaacccccaaaaaccccaaaaaccccacccaaccaaaaccaaaaaccaacccccccccccccccaaaaaacccccccaaacaaaaaaaaaaaaacccccccccccgggggfffaacccccccccccccaccc\n",
      ".........aaaaaa........aaacaaaaaaaaaaaaaaaaaaccaaaaaacccaaccacccccccaaaaaaaaaaaaaaaccccccccccccccaaaaccaaaaaacccccccaaaaaaaaaacaaaaaaccccccccccccagggfcaaaccccccccccccaaaaa\n",
      ".........aaaaa........aaaacaaacaaacccaaaaaaaacaaaaaaaaccccccccccccccaaaaaaaaaaaaaaacccccccccccccaaaaacccaaaaaccccccccaaaaaacaaaaaaaaccccccccccccccaccccaaacccccccccccccaaaa\n",
      "..........aaaa........aaaacccccaaacccccaaaacccaaaaaaaacccccccccccccccaaaaaaaaaaaaaacccccccccccccaaaaaaccaaaccccccccccaaaaaaaaaaaaaaaaccccccccccccccccccccacccccccccccccaaaa\n",
      ".......................aaacccccaacccccaaaaaacccccaacccccccccccccccccccccaaaaaaaaacccccccccccccccaaaaaacccccccccccccaaaaaaaaaaaaaaaaaaacccccccccccccccccccccccccccccccaaaaaa\n"
     ]
    }
   ],
   "source": [
    "print_topo()"
   ]
  },
  {
   "cell_type": "code",
   "execution_count": null,
   "metadata": {},
   "outputs": [],
   "source": []
  },
  {
   "cell_type": "code",
   "execution_count": 86,
   "metadata": {},
   "outputs": [
    {
     "ename": "AssertionError",
     "evalue": "",
     "output_type": "error",
     "traceback": [
      "\u001b[1;31m---------------------------------------------------------------------------\u001b[0m",
      "\u001b[1;31mAssertionError\u001b[0m                            Traceback (most recent call last)",
      "\u001b[1;32m<ipython-input-86-a1bbdddde102>\u001b[0m in \u001b[0;36m<module>\u001b[1;34m\u001b[0m\n\u001b[0;32m      4\u001b[0m \u001b[1;33m\u001b[0m\u001b[0m\n\u001b[0;32m      5\u001b[0m \u001b[1;32mfor\u001b[0m \u001b[0mstep\u001b[0m \u001b[1;32min\u001b[0m \u001b[0mrange\u001b[0m\u001b[1;33m(\u001b[0m\u001b[1;36m10000\u001b[0m\u001b[1;33m)\u001b[0m\u001b[1;33m:\u001b[0m\u001b[1;33m\u001b[0m\u001b[1;33m\u001b[0m\u001b[0m\n\u001b[1;32m----> 6\u001b[1;33m     \u001b[1;32massert\u001b[0m \u001b[0mfront\u001b[0m\u001b[1;33m\u001b[0m\u001b[1;33m\u001b[0m\u001b[0m\n\u001b[0m\u001b[0;32m      7\u001b[0m \u001b[1;33m\u001b[0m\u001b[0m\n\u001b[0;32m      8\u001b[0m \u001b[1;33m\u001b[0m\u001b[0m\n",
      "\u001b[1;31mAssertionError\u001b[0m: "
     ]
    }
   ],
   "source": [
    "Node.reset_all_dist()\n",
    "\n",
    "front = set([Node.START])\n",
    "\n",
    "for step in range(10000):\n",
    "    assert front\n",
    "    \n",
    "    \n",
    "    exits = set(exit\n",
    "                for node in front\n",
    "                for exit in node.exits\n",
    "               )\n",
    "    exits -= Node.CHECKED\n",
    "    \n",
    "    for exit in exits:\n",
    "        exit.dist = step\n",
    "    \n",
    "    front = exits\n",
    "else:\n",
    "    raise RuntimeError('Ran out of loops')"
   ]
  },
  {
   "cell_type": "code",
   "execution_count": 88,
   "metadata": {},
   "outputs": [
    {
     "data": {
      "text/plain": [
       "359"
      ]
     },
     "execution_count": 88,
     "metadata": {},
     "output_type": "execute_result"
    }
   ],
   "source": [
    "step"
   ]
  },
  {
   "cell_type": "code",
   "execution_count": 90,
   "metadata": {},
   "outputs": [
    {
     "data": {
      "text/plain": [
       "{[147 20] 25}"
      ]
     },
     "execution_count": 90,
     "metadata": {},
     "output_type": "execute_result"
    }
   ],
   "source": [
    "Node.END.exits"
   ]
  },
  {
   "cell_type": "code",
   "execution_count": null,
   "metadata": {},
   "outputs": [],
   "source": []
  },
  {
   "cell_type": "code",
   "execution_count": null,
   "metadata": {},
   "outputs": [],
   "source": []
  },
  {
   "cell_type": "code",
   "execution_count": null,
   "metadata": {},
   "outputs": [],
   "source": []
  },
  {
   "cell_type": "code",
   "execution_count": null,
   "metadata": {},
   "outputs": [],
   "source": []
  },
  {
   "cell_type": "code",
   "execution_count": 67,
   "metadata": {},
   "outputs": [],
   "source": [
    "Node.reset_all_dist()\n",
    "\n",
    "front = set([Node.START])"
   ]
  },
  {
   "cell_type": "code",
   "execution_count": 70,
   "metadata": {},
   "outputs": [
    {
     "data": {
      "text/plain": [
       "{[ 0 19]  0, [ 0 21]  0, [ 1 20]  1}"
      ]
     },
     "execution_count": 70,
     "metadata": {},
     "output_type": "execute_result"
    }
   ],
   "source": [
    "set(exit\n",
    "    for node in front\n",
    "    for exit in node.exits\n",
    "   ) - Node.CHECKED"
   ]
  },
  {
   "cell_type": "code",
   "execution_count": null,
   "metadata": {},
   "outputs": [],
   "source": []
  },
  {
   "cell_type": "code",
   "execution_count": null,
   "metadata": {},
   "outputs": [],
   "source": []
  },
  {
   "cell_type": "code",
   "execution_count": null,
   "metadata": {},
   "outputs": [],
   "source": []
  },
  {
   "cell_type": "code",
   "execution_count": null,
   "metadata": {},
   "outputs": [],
   "source": []
  },
  {
   "cell_type": "code",
   "execution_count": null,
   "metadata": {},
   "outputs": [],
   "source": []
  },
  {
   "cell_type": "code",
   "execution_count": 66,
   "metadata": {},
   "outputs": [
    {
     "data": {
      "text/plain": [
       "{[ 0 19]  0, [ 0 21]  0, [ 1 20]  1}"
      ]
     },
     "execution_count": 66,
     "metadata": {},
     "output_type": "execute_result"
    }
   ],
   "source": [
    "Node.START.exits"
   ]
  },
  {
   "cell_type": "code",
   "execution_count": null,
   "metadata": {},
   "outputs": [],
   "source": []
  },
  {
   "cell_type": "code",
   "execution_count": 55,
   "metadata": {},
   "outputs": [
    {
     "ename": "KeyboardInterrupt",
     "evalue": "",
     "output_type": "error",
     "traceback": [
      "\u001b[1;31m---------------------------------------------------------------------------\u001b[0m",
      "\u001b[1;31mKeyboardInterrupt\u001b[0m                         Traceback (most recent call last)",
      "\u001b[1;32m<ipython-input-55-c40d2efc5567>\u001b[0m in \u001b[0;36m<module>\u001b[1;34m\u001b[0m\n\u001b[0;32m     16\u001b[0m               )\n\u001b[0;32m     17\u001b[0m \u001b[1;33m\u001b[0m\u001b[0m\n\u001b[1;32m---> 18\u001b[1;33m     \u001b[1;32mfor\u001b[0m \u001b[0mnode\u001b[0m \u001b[1;32min\u001b[0m \u001b[0mthis\u001b[0m\u001b[1;33m:\u001b[0m\u001b[1;33m\u001b[0m\u001b[1;33m\u001b[0m\u001b[0m\n\u001b[0m\u001b[0;32m     19\u001b[0m         \u001b[0mnode\u001b[0m\u001b[1;33m.\u001b[0m\u001b[0mdist\u001b[0m \u001b[1;33m=\u001b[0m \u001b[0mstep\u001b[0m\u001b[1;33m\u001b[0m\u001b[1;33m\u001b[0m\u001b[0m\n\u001b[0;32m     20\u001b[0m         \u001b[1;32mif\u001b[0m \u001b[0mnode\u001b[0m \u001b[1;32mis\u001b[0m \u001b[0mNode\u001b[0m\u001b[1;33m.\u001b[0m\u001b[0mEND\u001b[0m\u001b[1;33m:\u001b[0m\u001b[1;33m\u001b[0m\u001b[1;33m\u001b[0m\u001b[0m\n",
      "\u001b[1;31mKeyboardInterrupt\u001b[0m: "
     ]
    }
   ],
   "source": [
    "step = 0\n",
    "this = set()\n",
    "last = set()\n",
    "\n",
    "Node.reset_all_dist()\n",
    "\n",
    "last.add(Node.START)\n",
    "\n",
    "while True:\n",
    "    step += 1\n",
    "    \n",
    "    this = set(exit \n",
    "                for node in last\n",
    "                for exit in node.exits\n",
    "                if not exit.dist\n",
    "              )\n",
    "        \n",
    "    for node in this:\n",
    "        node.dist = step\n",
    "        if node is Node.END:\n",
    "            raise StopIteration\n",
    "        \n",
    "    last = this"
   ]
  },
  {
   "cell_type": "code",
   "execution_count": 58,
   "metadata": {},
   "outputs": [
    {
     "data": {
      "text/plain": [
       "{[147 20] 25}"
      ]
     },
     "execution_count": 58,
     "metadata": {},
     "output_type": "execute_result"
    }
   ],
   "source": [
    "Node.END.exits"
   ]
  },
  {
   "cell_type": "code",
   "execution_count": 57,
   "metadata": {},
   "outputs": [
    {
     "data": {
      "text/plain": [
       "7012617"
      ]
     },
     "execution_count": 57,
     "metadata": {},
     "output_type": "execute_result"
    }
   ],
   "source": [
    "step"
   ]
  },
  {
   "cell_type": "code",
   "execution_count": null,
   "metadata": {},
   "outputs": [],
   "source": []
  },
  {
   "cell_type": "markdown",
   "metadata": {},
   "source": [
    "# Naive approach\n",
    "Check paths. This is Big O bad"
   ]
  },
  {
   "cell_type": "code",
   "execution_count": 11,
   "metadata": {},
   "outputs": [],
   "source": [
    "def walk(node, visited, paths):\n",
    "    \n",
    "    if node is Node.END:\n",
    "        paths.append(frozenset(visited))\n",
    "        return\n",
    "    \n",
    "    if node.deadend(visited):\n",
    "        return\n",
    "    \n",
    "    for exit in node.exits:\n",
    "        if exit in visited:\n",
    "            continue\n",
    "        visited.add(exit)\n",
    "        walk(exit, visited, paths)\n",
    "        visited.remove(exit)"
   ]
  },
  {
   "cell_type": "code",
   "execution_count": 12,
   "metadata": {},
   "outputs": [],
   "source": [
    "# results = []\n",
    "# walk(Node.START, set([Node.START]), results)"
   ]
  },
  {
   "cell_type": "code",
   "execution_count": 13,
   "metadata": {},
   "outputs": [
    {
     "ename": "NameError",
     "evalue": "name 'results' is not defined",
     "output_type": "error",
     "traceback": [
      "\u001b[1;31m---------------------------------------------------------------------------\u001b[0m",
      "\u001b[1;31mNameError\u001b[0m                                 Traceback (most recent call last)",
      "\u001b[1;32m<ipython-input-13-b962231df7f8>\u001b[0m in \u001b[0;36m<module>\u001b[1;34m\u001b[0m\n\u001b[1;32m----> 1\u001b[1;33m \u001b[0mlen\u001b[0m\u001b[1;33m(\u001b[0m\u001b[0mresults\u001b[0m\u001b[1;33m)\u001b[0m\u001b[1;33m\u001b[0m\u001b[1;33m\u001b[0m\u001b[0m\n\u001b[0m",
      "\u001b[1;31mNameError\u001b[0m: name 'results' is not defined"
     ]
    }
   ],
   "source": [
    "len(results)"
   ]
  },
  {
   "cell_type": "code",
   "execution_count": null,
   "metadata": {},
   "outputs": [],
   "source": []
  },
  {
   "cell_type": "code",
   "execution_count": null,
   "metadata": {},
   "outputs": [],
   "source": []
  },
  {
   "cell_type": "code",
   "execution_count": null,
   "metadata": {},
   "outputs": [],
   "source": []
  },
  {
   "cell_type": "code",
   "execution_count": null,
   "metadata": {},
   "outputs": [],
   "source": []
  },
  {
   "cell_type": "code",
   "execution_count": null,
   "metadata": {},
   "outputs": [],
   "source": []
  },
  {
   "cell_type": "code",
   "execution_count": null,
   "metadata": {},
   "outputs": [],
   "source": []
  }
 ],
 "metadata": {
  "kernelspec": {
   "display_name": "Python 3",
   "language": "python",
   "name": "python3"
  },
  "language_info": {
   "codemirror_mode": {
    "name": "ipython",
    "version": 3
   },
   "file_extension": ".py",
   "mimetype": "text/x-python",
   "name": "python",
   "nbconvert_exporter": "python",
   "pygments_lexer": "ipython3",
   "version": "3.7.4"
  }
 },
 "nbformat": 4,
 "nbformat_minor": 4
}
