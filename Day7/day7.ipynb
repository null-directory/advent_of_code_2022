{
 "cells": [
  {
   "cell_type": "code",
   "execution_count": 6,
   "metadata": {},
   "outputs": [],
   "source": [
    "with open('data.txt', 'r') as f:\n",
    "    data = f.read()"
   ]
  },
  {
   "cell_type": "code",
   "execution_count": null,
   "metadata": {},
   "outputs": [],
   "source": []
  },
  {
   "cell_type": "code",
   "execution_count": 16,
   "metadata": {},
   "outputs": [],
   "source": [
    "console_iter = iter(data.splitlines())\n",
    "\n",
    "tree = {'/':{}}\n",
    "cwd = [tree]\n",
    "\n",
    "for line in console_iter:\n",
    "    \n",
    "    # command\n",
    "    if line.startswith('$ '):\n",
    "        if line.startswith('$ cd '):\n",
    "            if line == '$ cd ..':\n",
    "                cwd = cwd[:-1]\n",
    "            else:\n",
    "                target = line[5:]\n",
    "                assert target in cwd[-1]\n",
    "                cwd.append(cwd[-1][target])\n",
    "        \n",
    "        elif line.startswith('$ ls '):\n",
    "            pass # listing, next entries won't be commands\n",
    "            \n",
    "    else:\n",
    "        if line.startswith('dir '):\n",
    "            target = line[4:]\n",
    "            if target not in cwd[-1]:\n",
    "                cwd[-1][target] = {}\n",
    "        else:\n",
    "            size, _, filename = line.partition(' ')\n",
    "            cwd[-1][filename] = int(size)\n",
    "\n"
   ]
  },
  {
   "cell_type": "code",
   "execution_count": 19,
   "metadata": {},
   "outputs": [
    {
     "data": {
      "text/plain": [
       "48690120"
      ]
     },
     "execution_count": 19,
     "metadata": {},
     "output_type": "execute_result"
    }
   ],
   "source": [
    "directory_sizes = {}\n",
    "\n",
    "def dir_size(cwd, directory, sizes=directory_sizes):\n",
    "    total_size = 0\n",
    "    \n",
    "    for name, node in directory.items():\n",
    "        if isinstance(node, int):\n",
    "            total_size += node\n",
    "        else:\n",
    "            total_size += dir_size(cwd + (name,), node)\n",
    "    \n",
    "    sizes['/'.join(cwd)] = total_size\n",
    "    return total_size\n",
    "    \n",
    "dir_size(tuple(), tree)"
   ]
  },
  {
   "cell_type": "code",
   "execution_count": 21,
   "metadata": {},
   "outputs": [
    {
     "data": {
      "text/plain": [
       "1348005"
      ]
     },
     "execution_count": 21,
     "metadata": {},
     "output_type": "execute_result"
    }
   ],
   "source": [
    "sum([\n",
    "    size\n",
    "    #sorted(directory_sizes.items(), key=lambda e: e[1])\n",
    "    for path, size\n",
    "    in directory_sizes.items()\n",
    "    if size <= 100000\n",
    "])"
   ]
  },
  {
   "cell_type": "code",
   "execution_count": 22,
   "metadata": {},
   "outputs": [
    {
     "data": {
      "text/plain": [
       "21309880"
      ]
     },
     "execution_count": 22,
     "metadata": {},
     "output_type": "execute_result"
    }
   ],
   "source": [
    "70000000 - 48690120"
   ]
  },
  {
   "cell_type": "code",
   "execution_count": 23,
   "metadata": {},
   "outputs": [
    {
     "data": {
      "text/plain": [
       "8690120"
      ]
     },
     "execution_count": 23,
     "metadata": {},
     "output_type": "execute_result"
    }
   ],
   "source": [
    "30000000 - 21309880"
   ]
  },
  {
   "cell_type": "code",
   "execution_count": 24,
   "metadata": {},
   "outputs": [
    {
     "data": {
      "text/plain": [
       "12785886"
      ]
     },
     "execution_count": 24,
     "metadata": {},
     "output_type": "execute_result"
    }
   ],
   "source": [
    "[\n",
    "    size\n",
    "    for path, size\n",
    "    in sorted(directory_sizes.items(), key=lambda e: e[1])\n",
    "    if size >= 8690120\n",
    "][0]"
   ]
  },
  {
   "cell_type": "code",
   "execution_count": null,
   "metadata": {},
   "outputs": [],
   "source": []
  }
 ],
 "metadata": {
  "kernelspec": {
   "display_name": "Python 3",
   "language": "python",
   "name": "python3"
  },
  "language_info": {
   "codemirror_mode": {
    "name": "ipython",
    "version": 3
   },
   "file_extension": ".py",
   "mimetype": "text/x-python",
   "name": "python",
   "nbconvert_exporter": "python",
   "pygments_lexer": "ipython3",
   "version": "3.7.4"
  }
 },
 "nbformat": 4,
 "nbformat_minor": 4
}
