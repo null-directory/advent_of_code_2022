{
 "cells": [
  {
   "cell_type": "code",
   "execution_count": 1,
   "metadata": {},
   "outputs": [],
   "source": [
    "col1 = {\n",
    "    'A': 'Rock',\n",
    "    'B': 'Paper',\n",
    "    'C': 'Scissors',\n",
    "}"
   ]
  },
  {
   "cell_type": "code",
   "execution_count": 2,
   "metadata": {},
   "outputs": [],
   "source": [
    "col2 = {\n",
    "    'X': 'Rock',\n",
    "    'Y': 'Paper',\n",
    "    'Z': 'Scissors',\n",
    "}"
   ]
  },
  {
   "cell_type": "code",
   "execution_count": 4,
   "metadata": {},
   "outputs": [],
   "source": [
    "rules = {\n",
    "    ('Rock', 'Rock'): 'Draw',\n",
    "    ('Rock', 'Paper'): 'Loss',\n",
    "    ('Rock', 'Scissors'): 'Win',\n",
    "\n",
    "    ('Paper', 'Rock'): 'Win',\n",
    "    ('Paper', 'Paper'): 'Draw',\n",
    "    ('Paper', 'Scissors'): 'Loss',\n",
    "\n",
    "    ('Scissors', 'Rock'): 'Loss',\n",
    "    ('Scissors', 'Paper'): 'Win',\n",
    "    ('Scissors', 'Scissors'): 'Draw',\n",
    "}"
   ]
  },
  {
   "cell_type": "code",
   "execution_count": 3,
   "metadata": {},
   "outputs": [],
   "source": [
    "scoring = {\n",
    "    'Rock': 1,\n",
    "    'Paper': 2,\n",
    "    'Scissors': 3,\n",
    "    \n",
    "    'Loss': 0,\n",
    "    'Draw': 3,\n",
    "    'Win': 6,\n",
    "}"
   ]
  },
  {
   "cell_type": "code",
   "execution_count": null,
   "metadata": {},
   "outputs": [],
   "source": []
  },
  {
   "cell_type": "code",
   "execution_count": 7,
   "metadata": {},
   "outputs": [],
   "source": [
    "strategy = []\n",
    "with open('strategy.txt', 'r') as f:\n",
    "    data = f.read()\n",
    "\n",
    "for row in data.splitlines():\n",
    "    call, response = row.split(' ')\n",
    "    strategy.append( (col1[call], col2[response]) )"
   ]
  },
  {
   "cell_type": "code",
   "execution_count": 10,
   "metadata": {},
   "outputs": [],
   "source": [
    "def score(opponent, yourself):\n",
    "    outcome = rules[(yourself, opponent)]\n",
    "    return scoring[yourself] + scoring[outcome]"
   ]
  },
  {
   "cell_type": "code",
   "execution_count": null,
   "metadata": {},
   "outputs": [],
   "source": []
  },
  {
   "cell_type": "code",
   "execution_count": 13,
   "metadata": {},
   "outputs": [],
   "source": [
    "assert score('Rock', 'Paper') == 8\n",
    "assert score('Paper', 'Rock') == 1\n",
    "assert score('Scissors', 'Scissors') == 6"
   ]
  },
  {
   "cell_type": "code",
   "execution_count": null,
   "metadata": {},
   "outputs": [],
   "source": []
  },
  {
   "cell_type": "markdown",
   "metadata": {},
   "source": [
    "# According to the guide"
   ]
  },
  {
   "cell_type": "code",
   "execution_count": 14,
   "metadata": {},
   "outputs": [
    {
     "data": {
      "text/plain": [
       "12645"
      ]
     },
     "execution_count": 14,
     "metadata": {},
     "output_type": "execute_result"
    }
   ],
   "source": [
    "sum(\n",
    "    score(them, us)\n",
    "    for them, us\n",
    "    in strategy\n",
    ")"
   ]
  },
  {
   "cell_type": "code",
   "execution_count": null,
   "metadata": {},
   "outputs": [],
   "source": []
  },
  {
   "cell_type": "markdown",
   "metadata": {},
   "source": [
    "# According to the strategy"
   ]
  },
  {
   "cell_type": "code",
   "execution_count": 19,
   "metadata": {},
   "outputs": [],
   "source": [
    "new_rules = {}\n",
    "for (them, us), outcome in rules.items():\n",
    "    new_rules[(us, outcome)] = them"
   ]
  },
  {
   "cell_type": "code",
   "execution_count": 20,
   "metadata": {},
   "outputs": [
    {
     "data": {
      "text/plain": [
       "{('Rock', 'Draw'): 'Rock',\n",
       " ('Paper', 'Loss'): 'Rock',\n",
       " ('Scissors', 'Win'): 'Rock',\n",
       " ('Rock', 'Win'): 'Paper',\n",
       " ('Paper', 'Draw'): 'Paper',\n",
       " ('Scissors', 'Loss'): 'Paper',\n",
       " ('Rock', 'Loss'): 'Scissors',\n",
       " ('Paper', 'Win'): 'Scissors',\n",
       " ('Scissors', 'Draw'): 'Scissors'}"
      ]
     },
     "execution_count": 20,
     "metadata": {},
     "output_type": "execute_result"
    }
   ],
   "source": [
    "new_rules"
   ]
  },
  {
   "cell_type": "markdown",
   "metadata": {},
   "source": [
    "note the new semantics here that's reversed!"
   ]
  },
  {
   "cell_type": "markdown",
   "metadata": {},
   "source": [
    "ah beans, I need to redo the strategy too :facepalm:\n",
    "coulda did it differently, but didn't"
   ]
  },
  {
   "cell_type": "code",
   "execution_count": 22,
   "metadata": {},
   "outputs": [],
   "source": [
    "new_col2 = {\n",
    "    'X': 'Loss',\n",
    "    'Y': 'Draw',\n",
    "    'Z': 'Win',\n",
    "}"
   ]
  },
  {
   "cell_type": "code",
   "execution_count": 23,
   "metadata": {},
   "outputs": [],
   "source": [
    "new_strategy = []\n",
    "\n",
    "for row in data.splitlines():\n",
    "    call, response = row.split(' ')\n",
    "    new_strategy.append( (col1[call], new_col2[response]) )"
   ]
  },
  {
   "cell_type": "code",
   "execution_count": 25,
   "metadata": {},
   "outputs": [
    {
     "name": "stdout",
     "output_type": "stream",
     "text": [
      "11756\n"
     ]
    }
   ],
   "source": [
    "total = 0\n",
    "for theirs, outcome in new_strategy:\n",
    "    ours = new_rules[(theirs, outcome)]\n",
    "    total += scoring[ours] + scoring[outcome]\n",
    "    \n",
    "print(total)"
   ]
  },
  {
   "cell_type": "code",
   "execution_count": null,
   "metadata": {},
   "outputs": [],
   "source": []
  },
  {
   "cell_type": "code",
   "execution_count": null,
   "metadata": {},
   "outputs": [],
   "source": []
  }
 ],
 "metadata": {
  "kernelspec": {
   "display_name": "Python 3",
   "language": "python",
   "name": "python3"
  },
  "language_info": {
   "codemirror_mode": {
    "name": "ipython",
    "version": 3
   },
   "file_extension": ".py",
   "mimetype": "text/x-python",
   "name": "python",
   "nbconvert_exporter": "python",
   "pygments_lexer": "ipython3",
   "version": "3.7.4"
  }
 },
 "nbformat": 4,
 "nbformat_minor": 4
}
