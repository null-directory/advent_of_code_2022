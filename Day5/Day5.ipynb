{
 "cells": [
  {
   "cell_type": "code",
   "execution_count": null,
   "metadata": {},
   "outputs": [],
   "source": []
  },
  {
   "cell_type": "code",
   "execution_count": 3,
   "metadata": {},
   "outputs": [],
   "source": [
    "with open('data.txt', 'r') as f:\n",
    "    data = f.read().splitlines()"
   ]
  },
  {
   "cell_type": "code",
   "execution_count": 2,
   "metadata": {},
   "outputs": [],
   "source": [
    "import re"
   ]
  },
  {
   "cell_type": "code",
   "execution_count": 4,
   "metadata": {},
   "outputs": [],
   "source": [
    "dataiter = iter(data)"
   ]
  },
  {
   "cell_type": "code",
   "execution_count": 5,
   "metadata": {},
   "outputs": [],
   "source": [
    "starting = []\n",
    "for line in dataiter:\n",
    "    if not line:\n",
    "        break\n",
    "    starting.append(line)"
   ]
  },
  {
   "cell_type": "code",
   "execution_count": 6,
   "metadata": {},
   "outputs": [
    {
     "data": {
      "text/plain": [
       "['        [Q] [B]         [H]        ',\n",
       " '    [F] [W] [D] [Q]     [S]        ',\n",
       " '    [D] [C] [N] [S] [G] [F]        ',\n",
       " '    [R] [D] [L] [C] [N] [Q]     [R]',\n",
       " '[V] [W] [L] [M] [P] [S] [M]     [M]',\n",
       " '[J] [B] [F] [P] [B] [B] [P] [F] [F]',\n",
       " '[B] [V] [G] [J] [N] [D] [B] [L] [V]',\n",
       " '[D] [P] [R] [W] [H] [R] [Z] [W] [S]',\n",
       " ' 1   2   3   4   5   6   7   8   9 ']"
      ]
     },
     "execution_count": 6,
     "metadata": {},
     "output_type": "execute_result"
    }
   ],
   "source": [
    "starting"
   ]
  },
  {
   "cell_type": "code",
   "execution_count": 9,
   "metadata": {},
   "outputs": [],
   "source": [
    "num_stacks = max(int(s) for s in starting[-1].split())"
   ]
  },
  {
   "cell_type": "code",
   "execution_count": 10,
   "metadata": {},
   "outputs": [
    {
     "data": {
      "text/plain": [
       "9"
      ]
     },
     "execution_count": 10,
     "metadata": {},
     "output_type": "execute_result"
    }
   ],
   "source": [
    "num_stacks"
   ]
  },
  {
   "cell_type": "code",
   "execution_count": 11,
   "metadata": {},
   "outputs": [],
   "source": [
    "from collections import defaultdict"
   ]
  },
  {
   "cell_type": "code",
   "execution_count": 15,
   "metadata": {},
   "outputs": [
    {
     "data": {
      "text/plain": [
       "'DPRWHRZWS'"
      ]
     },
     "execution_count": 15,
     "metadata": {},
     "output_type": "execute_result"
    }
   ],
   "source": [
    "starting[-2][1::4]"
   ]
  },
  {
   "cell_type": "code",
   "execution_count": 12,
   "metadata": {},
   "outputs": [],
   "source": []
  },
  {
   "cell_type": "code",
   "execution_count": 23,
   "metadata": {},
   "outputs": [],
   "source": [
    "stacks = defaultdict(list)\n",
    "for line in reversed(starting[:-1]):\n",
    "    for i,c in enumerate(line[1::4]):\n",
    "        if c.strip():\n",
    "            stacks[i+1].append(c)\n",
    "stacks = dict(stacks)"
   ]
  },
  {
   "cell_type": "code",
   "execution_count": 27,
   "metadata": {},
   "outputs": [
    {
     "data": {
      "text/plain": [
       "{1: ['D', 'B', 'J', 'V'],\n",
       " 2: ['P', 'V', 'B', 'W', 'R', 'D', 'F'],\n",
       " 3: ['R', 'G', 'F', 'L', 'D', 'C', 'W', 'Q'],\n",
       " 4: ['W', 'J', 'P', 'M', 'L', 'N', 'D', 'B'],\n",
       " 5: ['H', 'N', 'B', 'P', 'C', 'S', 'Q'],\n",
       " 6: ['R', 'D', 'B', 'S', 'N', 'G'],\n",
       " 7: ['Z', 'B', 'P', 'M', 'Q', 'F', 'S', 'H'],\n",
       " 8: ['W', 'L', 'F'],\n",
       " 9: ['S', 'V', 'F', 'M', 'R']}"
      ]
     },
     "execution_count": 27,
     "metadata": {},
     "output_type": "execute_result"
    }
   ],
   "source": [
    "stacks"
   ]
  },
  {
   "cell_type": "code",
   "execution_count": null,
   "metadata": {},
   "outputs": [],
   "source": []
  },
  {
   "cell_type": "code",
   "execution_count": 7,
   "metadata": {},
   "outputs": [],
   "source": [
    "movements = [line for line in dataiter]"
   ]
  },
  {
   "cell_type": "code",
   "execution_count": 26,
   "metadata": {},
   "outputs": [],
   "source": [
    "move_pattern = re.compile(r'move\\ (\\d+) from (\\d+) to (\\d+)')"
   ]
  },
  {
   "cell_type": "code",
   "execution_count": 29,
   "metadata": {},
   "outputs": [],
   "source": [
    "for move in movements:\n",
    "    n,src,dst = [int(c) for c in move_pattern.match(move).groups()]\n",
    "    for i in range(n):\n",
    "        stacks[dst].append(stacks[src].pop())"
   ]
  },
  {
   "cell_type": "code",
   "execution_count": 31,
   "metadata": {},
   "outputs": [
    {
     "data": {
      "text/plain": [
       "'BSDMQFLSP'"
      ]
     },
     "execution_count": 31,
     "metadata": {},
     "output_type": "execute_result"
    }
   ],
   "source": [
    "''.join(crates[-1] for stack,crates in stacks.items())\n",
    "    "
   ]
  },
  {
   "cell_type": "code",
   "execution_count": null,
   "metadata": {},
   "outputs": [],
   "source": []
  },
  {
   "cell_type": "code",
   "execution_count": 43,
   "metadata": {},
   "outputs": [],
   "source": [
    "stacks = defaultdict(list)\n",
    "for line in reversed(starting[:-1]):\n",
    "    for i,c in enumerate(line[1::4]):\n",
    "        if c.strip():\n",
    "            stacks[i+1].append(c)\n",
    "stacks = dict(stacks)"
   ]
  },
  {
   "cell_type": "code",
   "execution_count": 44,
   "metadata": {},
   "outputs": [
    {
     "data": {
      "text/plain": [
       "{1: ['D', 'B', 'J', 'V'],\n",
       " 2: ['P', 'V', 'B', 'W', 'R', 'D', 'F'],\n",
       " 3: ['R', 'G', 'F', 'L', 'D', 'C', 'W', 'Q'],\n",
       " 4: ['W', 'J', 'P', 'M', 'L', 'N', 'D', 'B'],\n",
       " 5: ['H', 'N', 'B', 'P', 'C', 'S', 'Q'],\n",
       " 6: ['R', 'D', 'B', 'S', 'N', 'G'],\n",
       " 7: ['Z', 'B', 'P', 'M', 'Q', 'F', 'S', 'H'],\n",
       " 8: ['W', 'L', 'F'],\n",
       " 9: ['S', 'V', 'F', 'M', 'R']}"
      ]
     },
     "execution_count": 44,
     "metadata": {},
     "output_type": "execute_result"
    }
   ],
   "source": [
    "stacks"
   ]
  },
  {
   "cell_type": "code",
   "execution_count": 45,
   "metadata": {},
   "outputs": [],
   "source": [
    "for move in movements:\n",
    "    n,src,dst = [int(c) for c in move_pattern.match(move).groups()]\n",
    "    group = stacks[src][-n:]\n",
    "    stacks[src] = stacks[src][:-n]\n",
    "    stacks[dst].extend(group)"
   ]
  },
  {
   "cell_type": "code",
   "execution_count": 46,
   "metadata": {},
   "outputs": [
    {
     "data": {
      "text/plain": [
       "{1: ['F', 'D', 'M', 'G', 'P'],\n",
       " 2: ['D', 'V', 'Z', 'G'],\n",
       " 3: ['M', 'R', 'R', 'S', 'V', 'B', 'H', 'S'],\n",
       " 4: ['S', 'H', 'Q'],\n",
       " 5: ['D', 'L', 'C', 'N', 'B'],\n",
       " 6: ['D',\n",
       "  'P',\n",
       "  'J',\n",
       "  'W',\n",
       "  'C',\n",
       "  'B',\n",
       "  'S',\n",
       "  'N',\n",
       "  'F',\n",
       "  'L',\n",
       "  'F',\n",
       "  'W',\n",
       "  'R',\n",
       "  'Q',\n",
       "  'F',\n",
       "  'W',\n",
       "  'F'],\n",
       " 7: ['V', 'L'],\n",
       " 8: ['D'],\n",
       " 9: ['W', 'Q', 'B', 'B', 'P', 'M', 'B', 'J', 'R', 'N', 'P']}"
      ]
     },
     "execution_count": 46,
     "metadata": {},
     "output_type": "execute_result"
    }
   ],
   "source": [
    "stacks"
   ]
  },
  {
   "cell_type": "code",
   "execution_count": 47,
   "metadata": {},
   "outputs": [
    {
     "data": {
      "text/plain": [
       "'PGSQBFLDP'"
      ]
     },
     "execution_count": 47,
     "metadata": {},
     "output_type": "execute_result"
    }
   ],
   "source": [
    "''.join(crates[-1] for stack,crates in stacks.items())\n"
   ]
  },
  {
   "cell_type": "code",
   "execution_count": null,
   "metadata": {},
   "outputs": [],
   "source": []
  }
 ],
 "metadata": {
  "kernelspec": {
   "display_name": "Python 3",
   "language": "python",
   "name": "python3"
  },
  "language_info": {
   "codemirror_mode": {
    "name": "ipython",
    "version": 3
   },
   "file_extension": ".py",
   "mimetype": "text/x-python",
   "name": "python",
   "nbconvert_exporter": "python",
   "pygments_lexer": "ipython3",
   "version": "3.7.4"
  }
 },
 "nbformat": 4,
 "nbformat_minor": 4
}
