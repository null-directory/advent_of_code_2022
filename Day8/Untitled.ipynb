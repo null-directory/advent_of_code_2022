{
 "cells": [
  {
   "cell_type": "code",
   "execution_count": 1,
   "metadata": {},
   "outputs": [],
   "source": [
    "with open('data.txt', 'r') as f:\n",
    "    raw_data = f.read()"
   ]
  },
  {
   "cell_type": "markdown",
   "metadata": {},
   "source": [
    "four passes: from left, right top and bottom, then AND them all"
   ]
  },
  {
   "cell_type": "code",
   "execution_count": 10,
   "metadata": {},
   "outputs": [],
   "source": [
    "from_left = set()\n",
    "from_right = set()\n",
    "from_top = set()\n",
    "from_bottom = set()\n",
    "\n",
    "for rix, line in enumerate(raw_data.splitlines()):\n",
    "    \n",
    "    left = line[0]\n",
    "    from_left.add((rix,0))\n",
    "\n",
    "    right = line[-1]\n",
    "    from_right.add((rix, len(line)-1))\n",
    "    \n",
    "    for i in range(1,len(line)-1):\n",
    "        if line[i] > left:\n",
    "            from_left.add((rix, i))\n",
    "            left = line[i]\n",
    "            \n",
    "        if line[-i-1] > right:\n",
    "            from_right.add((rix, len(line)-1-i))\n",
    "            right = line[-i-1]\n",
    "        \n",
    "for cix, line in enumerate(zip(*raw_data.splitlines())):\n",
    "    \n",
    "    top = line[0]\n",
    "    from_top.add((0, cix))\n",
    "\n",
    "    bottom = line[-1]\n",
    "    from_bottom.add((len(line)-1, cix))\n",
    "    \n",
    "    for i in range(1,len(line)-1):\n",
    "        if line[i] > top:\n",
    "            from_top.add((i, cix))\n",
    "            top = line[i]\n",
    "            \n",
    "        if line[-i-1] > bottom:\n",
    "            from_bottom.add((len(line)-1-i, cix))\n",
    "            bottom = line[-i-1]\n",
    "    "
   ]
  },
  {
   "cell_type": "code",
   "execution_count": 16,
   "metadata": {},
   "outputs": [
    {
     "data": {
      "text/plain": [
       "1672"
      ]
     },
     "execution_count": 16,
     "metadata": {},
     "output_type": "execute_result"
    }
   ],
   "source": [
    "len(from_left | from_right | from_top | from_bottom)"
   ]
  },
  {
   "cell_type": "markdown",
   "metadata": {},
   "source": [
    "# Part two - backwards\n",
    "I'd like to brute force this, but it's not much more work to just repeat the four passes above, this time working backward for each direction and tracking the tallest on the way."
   ]
  },
  {
   "cell_type": "code",
   "execution_count": 78,
   "metadata": {},
   "outputs": [
    {
     "data": {
      "text/plain": [
       "'3'"
      ]
     },
     "execution_count": 78,
     "metadata": {},
     "output_type": "execute_result"
    }
   ],
   "source": [
    "line[-len(line)-1+1]"
   ]
  },
  {
   "cell_type": "code",
   "execution_count": 76,
   "metadata": {},
   "outputs": [
    {
     "data": {
      "text/plain": [
       "'2'"
      ]
     },
     "execution_count": 76,
     "metadata": {},
     "output_type": "execute_result"
    }
   ],
   "source": [
    "line[1]"
   ]
  },
  {
   "cell_type": "code",
   "execution_count": 129,
   "metadata": {},
   "outputs": [],
   "source": [
    "from_left = {}\n",
    "from_right = {}\n",
    "from_top = {}\n",
    "from_bottom = {}\n",
    "\n",
    "for rix, line in enumerate(raw_data.splitlines()):\n",
    "    \n",
    "    # get the ends\n",
    "    from_left[(rix,len(line)-1)] = 0\n",
    "    from_right[(rix, 0)] = 0\n",
    "    \n",
    "    # iterate over the rest\n",
    "    for cix in range(1,len(line)):\n",
    "        \n",
    "        tree = line[cix]\n",
    "        for c,h in enumerate(reversed(line[:cix])):\n",
    "            if h >= tree:\n",
    "                break\n",
    "        from_right[(rix, cix)] = c+1\n",
    "\n",
    "        tree = line[-cix-1]\n",
    "        for c,h in enumerate(line[-cix-1+1:]):\n",
    "            if h >= tree:\n",
    "                break\n",
    "        from_left[(rix, (len(line)-1)-cix)] = c+1\n",
    "        \n",
    "        \n",
    "for cix, line in enumerate(zip(*raw_data.splitlines())):\n",
    "    \n",
    "    # get the ends\n",
    "    from_top[(len(line)-1, cix)] = 0\n",
    "    from_bottom[(0, cix)] = 0\n",
    "    \n",
    "    # iterate over the rest\n",
    "    for rix in range(1,len(line)):\n",
    "        \n",
    "        tree = line[rix]\n",
    "        for c,h in enumerate(reversed(line[:rix])):\n",
    "            if h >= tree:\n",
    "                break\n",
    "        from_bottom[(rix, cix)] = c+1\n",
    "\n",
    "        tree = line[-rix-1]\n",
    "        for c,h in enumerate(line[-rix-1+1:]):\n",
    "            if h >= tree:\n",
    "                break\n",
    "        from_top[((len(line)-1)-rix, cix)] = c+1\n",
    "               \n",
    "\n"
   ]
  },
  {
   "cell_type": "code",
   "execution_count": null,
   "metadata": {},
   "outputs": [],
   "source": []
  },
  {
   "cell_type": "code",
   "execution_count": 130,
   "metadata": {},
   "outputs": [],
   "source": [
    "all_coords = sorted(from_left)"
   ]
  },
  {
   "cell_type": "code",
   "execution_count": 131,
   "metadata": {},
   "outputs": [
    {
     "data": {
      "text/plain": [
       "9801"
      ]
     },
     "execution_count": 131,
     "metadata": {},
     "output_type": "execute_result"
    }
   ],
   "source": [
    "len(all_coords)"
   ]
  },
  {
   "cell_type": "code",
   "execution_count": 132,
   "metadata": {},
   "outputs": [],
   "source": [
    "def score(rix, cix):\n",
    "    coord = (rix, cix)\n",
    "    \n",
    "    print(from_left[coord])\n",
    "    print(from_right[coord])\n",
    "    print(from_top[coord])\n",
    "    print(from_bottom[coord])\n",
    "    \n",
    "    return from_left[coord] * from_right[coord] * from_top[coord] * from_bottom[coord]"
   ]
  },
  {
   "cell_type": "code",
   "execution_count": 133,
   "metadata": {},
   "outputs": [
    {
     "name": "stdout",
     "output_type": "stream",
     "text": [
      "11\n",
      "0\n",
      "10\n",
      "0\n"
     ]
    },
    {
     "data": {
      "text/plain": [
       "0"
      ]
     },
     "execution_count": 133,
     "metadata": {},
     "output_type": "execute_result"
    }
   ],
   "source": [
    "score(0,0)"
   ]
  },
  {
   "cell_type": "code",
   "execution_count": 134,
   "metadata": {},
   "outputs": [
    {
     "name": "stdout",
     "output_type": "stream",
     "text": [
      "1\n",
      "2\n",
      "1\n",
      "1\n"
     ]
    },
    {
     "data": {
      "text/plain": [
       "2"
      ]
     },
     "execution_count": 134,
     "metadata": {},
     "output_type": "execute_result"
    }
   ],
   "source": [
    "score(2,2)"
   ]
  },
  {
   "cell_type": "code",
   "execution_count": null,
   "metadata": {},
   "outputs": [],
   "source": []
  },
  {
   "cell_type": "code",
   "execution_count": 135,
   "metadata": {},
   "outputs": [
    {
     "data": {
      "text/plain": [
       "327180"
      ]
     },
     "execution_count": 135,
     "metadata": {},
     "output_type": "execute_result"
    }
   ],
   "source": [
    "max(\n",
    "    from_left[coord] * from_right[coord] * from_top[coord] * from_bottom[coord]\n",
    "    for coord in all_coords\n",
    ")"
   ]
  },
  {
   "cell_type": "markdown",
   "metadata": {},
   "source": [
    "Invalid answers:\n",
    "80640 (low)\n",
    "29376 worse"
   ]
  },
  {
   "cell_type": "code",
   "execution_count": null,
   "metadata": {},
   "outputs": [],
   "source": []
  },
  {
   "cell_type": "code",
   "execution_count": null,
   "metadata": {},
   "outputs": [],
   "source": []
  },
  {
   "cell_type": "code",
   "execution_count": null,
   "metadata": {},
   "outputs": [],
   "source": []
  }
 ],
 "metadata": {
  "kernelspec": {
   "display_name": "Python 3",
   "language": "python",
   "name": "python3"
  },
  "language_info": {
   "codemirror_mode": {
    "name": "ipython",
    "version": 3
   },
   "file_extension": ".py",
   "mimetype": "text/x-python",
   "name": "python",
   "nbconvert_exporter": "python",
   "pygments_lexer": "ipython3",
   "version": "3.7.4"
  }
 },
 "nbformat": 4,
 "nbformat_minor": 4
}
